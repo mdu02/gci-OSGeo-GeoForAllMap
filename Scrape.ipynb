{
 "cells": [
  {
   "cell_type": "code",
   "execution_count": 98,
   "metadata": {
    "scrolled": true
   },
   "outputs": [],
   "source": [
    "#Licensed under MIT License, see root of repo\n",
    "import requests, re\n",
    "from bs4 import BeautifulSoup\n",
    "import pandas as pd\n",
    "import numpy as np\n",
    "\n",
    "url = 'https://wiki.osgeo.org/wiki/Edu_current_initiatives' #url of page\n",
    "page = requests.get(url) #html\n",
    "soup = BeautifulSoup(page.content, 'lxml') #parses html\n",
    "\n",
    "tb = soup.find('table', class_ = 'wikitable sortable') #the two tables we want\n",
    "\n",
    "#header section\n",
    "headers = soup.find('tr')\n",
    "new_header = []\n",
    "for th in headers.find_all('th'):\n",
    "    new_header.append(th.get_text().strip(',').strip())\n",
    "dfheader = pd.DataFrame(new_header).transpose()\n",
    "\n",
    "#data section\n",
    "rows = soup.find_all('tr')\n",
    "list_rows = []\n",
    "\n",
    "for row in rows:\n",
    "    new_row = []\n",
    "    for td in row.find_all('td'):\n",
    "        new_row.append(td.get_text().strip(\",\").strip())\n",
    "    list_rows.append(new_row)\n",
    "dfdata = pd.DataFrame.from_records(list_rows)\n",
    "\n",
    "df = pd.concat([dfheader, dfdata]) #join\n",
    "df.rename(columns=df.iloc[0], inplace=True) #rename headers\n",
    "df.drop(df.index[0], inplace=True) #drop first row\n",
    "df.drop(df.index[126], inplace=True) #drop junk row\n",
    "df.drop('', axis=1, inplace=True)\n",
    "\n",
    "#remove empty coordinates\n",
    "df['Coordinates (longitude, latitude)'].replace('', np.nan, inplace=True)\n",
    "df.dropna(subset=['Coordinates (longitude, latitude)'], inplace=True)\n",
    "\n",
    "\n",
    "#check all remaining rows to make sure that they are proper coords\n",
    "patternDel = '.,?.'\n",
    "filter = df['Coordinates (longitude, latitude)'].str.contains(patternDel)\n",
    "df = df[filter]\n",
    "\n",
    "#split\n",
    "df[['lat','long']] = df['Coordinates (longitude, latitude)'].str.split(',',expand=True)\n",
    "#out\n",
    "df.to_csv(r'E:\\Documents\\GitHub\\GCI-osgeo\\GeoForAll Map\\out.csv')"
   ]
  },
  {
   "cell_type": "code",
   "execution_count": null,
   "metadata": {},
   "outputs": [],
   "source": []
  }
 ],
 "metadata": {
  "kernelspec": {
   "display_name": "Python 3",
   "language": "python",
   "name": "python3"
  },
  "language_info": {
   "codemirror_mode": {
    "name": "ipython",
    "version": 3
   },
   "file_extension": ".py",
   "mimetype": "text/x-python",
   "name": "python",
   "nbconvert_exporter": "python",
   "pygments_lexer": "ipython3",
   "version": "3.7.4"
  }
 },
 "nbformat": 4,
 "nbformat_minor": 2
}
